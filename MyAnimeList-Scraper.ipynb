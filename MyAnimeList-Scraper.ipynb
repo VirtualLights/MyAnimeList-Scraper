{
 "cells": [
  {
   "cell_type": "code",
   "execution_count": 11,
   "metadata": {},
   "outputs": [],
   "source": [
    "import requests\n",
    "import re\n",
    "from bs4 import BeautifulSoup\n",
    "import time\n",
    "import json\n",
    "\n",
    "# Scrapes the MAL recent users page in order to capture usernames\n",
    "def get_usernames():\n",
    "    url = \"https://myanimelist.net/users.php\"\n",
    "    try:\n",
    "        page = requests.get(url)\n",
    "        soup = BeautifulSoup(page.text)\n",
    "        users = soup.findAll(\"a\", {'href': re.compile(r'\\/profile\\/.*')})\n",
    "    except:\n",
    "        return None"
   ]
  },
  {
   "cell_type": "code",
   "execution_count": 12,
   "metadata": {},
   "outputs": [],
   "source": [
    "'''\n",
    "Function to clean the json information into a list containing tuples of the format\n",
    "anime_id, watched_percentage, score)\n",
    "watched_percentage is calculated as num_watched_episodes / anime_num_episodes\n",
    "Note: An unscored anime is calculated as a 0 by MAL\n",
    "\n",
    "flags is a list of statuses of anime on a users anime list that can be used\n",
    "to filter out anime based on the viewing status of the user\n",
    "'''\n",
    "def clean(anime_list, flags):\n",
    "    cleaned_list = []\n",
    "    for anime in anime_list:\n",
    "        # Skips anime that don't have the given status\n",
    "        anime_status = anime.get('status')\n",
    "        if anime_status in flags:\n",
    "            \n",
    "            anime_id = anime.get('anime_id', None)\n",
    "        \n",
    "            num_watched = anime.get('num_watched_episodes', 0)\n",
    "            num_episodes = anime.get('anime_num_episodes', 1)\n",
    "            # If an anime is on MAL but has not been released yet, num_episodes will be 0\n",
    "            if num_episodes == 0:\n",
    "                watched_percentage = 0\n",
    "            else:\n",
    "                watched_percentage = num_watched / num_episodes\n",
    "        \n",
    "            score = anime.get('score', 0)\n",
    "        \n",
    "            cleaned_list.append((anime_id, watched_percentage, score))\n",
    "        \n",
    "    return cleaned_list       "
   ]
  },
  {
   "cell_type": "code",
   "execution_count": 14,
   "metadata": {},
   "outputs": [],
   "source": [
    "# Scrapes each user's anime list\n",
    "def get_anime_lists(users, flags):\n",
    "    merged_anime_list = []\n",
    "    for user in users:\n",
    "        # Skips all of the NavigableStrings\n",
    "        # If a user's anime list is private, then trying to get the json will throw an error\n",
    "        try:\n",
    "            user_url = \"https://myanimelist.net/animelist/\" + user.text + \"/load.json?status=7&offset=0\"\n",
    "            user_page = requests.get(user_url)\n",
    "            \n",
    "            # Sleep to comply with the rate limiting\n",
    "            time.sleep(15)\n",
    "            \n",
    "            # Cleans the json information into a list\n",
    "            user_json = json.loads(user_page.text)      \n",
    "            anime_list = clean(user_json, flags)\n",
    "            merged_anime_list.extend(anime_list)\n",
    "            \n",
    "        except:\n",
    "            pass\n",
    "            \n",
    "    return merged_anime_list"
   ]
  },
  {
   "cell_type": "code",
   "execution_count": 15,
   "metadata": {},
   "outputs": [],
   "source": [
    "def scrape():\n",
    "    users = get_usernames()\n",
    "    if users is not None:\n",
    "        merged_anime_list = get_anime_lists(users)\n",
    "    \n",
    "    #TODO: write to csv\n",
    "    \n",
    "    \n",
    "        "
   ]
  },
  {
   "cell_type": "code",
   "execution_count": 16,
   "metadata": {},
   "outputs": [],
   "source": [
    "# Watching - status = 1\n",
    "# Completed - status = 2\n",
    "# On Hold - status = 3\n",
    "# Dropped - status = 4\n",
    "# status = 5 seems to be unused for some reason, however, include in default flags?\n",
    "# Plan to watch - status = 6\n",
    "\n",
    "#TODO: write wrapper function that executes scrape every 5 minutes?\n",
    "#https://stackoverflow.com/questions/474528/what-is-the-best-way-to-repeatedly-execute-a-function-every-x-seconds-in-python\n"
   ]
  },
  {
   "cell_type": "code",
   "execution_count": null,
   "metadata": {},
   "outputs": [],
   "source": []
  }
 ],
 "metadata": {
  "kernelspec": {
   "display_name": "Python 3",
   "language": "python",
   "name": "python3"
  },
  "language_info": {
   "codemirror_mode": {
    "name": "ipython",
    "version": 3
   },
   "file_extension": ".py",
   "mimetype": "text/x-python",
   "name": "python",
   "nbconvert_exporter": "python",
   "pygments_lexer": "ipython3",
   "version": "3.7.0"
  }
 },
 "nbformat": 4,
 "nbformat_minor": 2
}
