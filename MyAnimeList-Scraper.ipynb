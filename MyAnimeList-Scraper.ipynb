{
 "cells": [
  {
   "cell_type": "code",
   "execution_count": 11,
   "metadata": {},
   "outputs": [],
   "source": [
    "from bs4 import BeautifulSoup\n",
    "import csv\n",
    "import json\n",
    "import requests\n",
    "import re\n",
    "import sched\n",
    "import sys\n",
    "import time\n",
    "\n",
    "# Scrapes the MAL recent users page in order to capture usernames\n",
    "def get_usernames():\n",
    "    url = \"https://myanimelist.net/users.php\"\n",
    "    try:\n",
    "        page = requests.get(url)\n",
    "        soup = BeautifulSoup(page.text)\n",
    "        users = soup.findAll(\"a\", {'href': re.compile(r'\\/profile\\/.*')})\n",
    "    except:\n",
    "        return None"
   ]
  },
  {
   "cell_type": "code",
   "execution_count": 12,
   "metadata": {},
   "outputs": [],
   "source": [
    "'''\n",
    "Function to clean the json information into a list containing tuples of the format\n",
    "anime_id, watched_percentage, score)\n",
    "watched_percentage is calculated as num_watched_episodes / anime_num_episodes\n",
    "Note: An unscored anime is calculated as a 0 by MAL\n",
    "\n",
    "\n",
    "'''\n",
    "def clean(anime_list):\n",
    "    cleaned_list = []\n",
    "    for anime in anime_list:\n",
    "\n",
    "            \n",
    "        anime_id = anime.get('anime_id', None)\n",
    "        \n",
    "        num_watched = anime.get('num_watched_episodes', 0)\n",
    "        num_episodes = anime.get('anime_num_episodes', 1)\n",
    "        # If an anime is on MAL but has not been released yet, num_episodes will be 0\n",
    "        if num_episodes == 0:\n",
    "            watched_percentage = 0\n",
    "        else:\n",
    "            watched_percentage = num_watched / num_episodes\n",
    "        \n",
    "        score = anime.get('score', 0)\n",
    "        \n",
    "        cleaned_list.append((anime_id, watched_percentage, score))\n",
    "        \n",
    "    return cleaned_list       "
   ]
  },
  {
   "cell_type": "code",
   "execution_count": 14,
   "metadata": {},
   "outputs": [],
   "source": [
    "# Scrapes each user's anime list\n",
    "def get_anime_lists(users):\n",
    "    merged_anime_list = []\n",
    "    for user in users:\n",
    "        # Skips all of the NavigableStrings\n",
    "        # If a user's anime list is private, then trying to get the json will throw an error\n",
    "        try:\n",
    "            user_url = \"https://myanimelist.net/animelist/\" + user.text + \"/load.json?status=7&offset=0\"\n",
    "            user_page = requests.get(user_url)\n",
    "            \n",
    "            # Sleep to comply with the rate limiting\n",
    "            time.sleep(15)\n",
    "            \n",
    "            # Cleans the json information into a list\n",
    "            user_json = json.loads(user_page.text)      \n",
    "            anime_list = clean(user_json)\n",
    "            merged_anime_list.extend(anime_list)\n",
    "            \n",
    "        except:\n",
    "            pass\n",
    "            \n",
    "    return merged_anime_list"
   ]
  },
  {
   "cell_type": "code",
   "execution_count": 2,
   "metadata": {},
   "outputs": [],
   "source": [
    "# Gets the cleaned anime lists and writes it to the given csv\n",
    "def scrape():\n",
    "    users = get_usernames()\n",
    "    if users is not None:\n",
    "        merged_anime_list = get_anime_lists(users)\n",
    "        \n",
    "        kwargs = {'newline': ''}\n",
    "        mode = 'w'\n",
    "\n",
    "        with open(file, mode, **kwargs) as fp:\n",
    "            writer = csv.writer(fp, delimiter=',')\n",
    "            writer.writerows(merged_anime_list)   "
   ]
  },
  {
   "cell_type": "code",
   "execution_count": 16,
   "metadata": {},
   "outputs": [],
   "source": [
    "def run():\n",
    "    try:\n",
    "        scrape()\n",
    "    finally:\n",
    "        counter++\n",
    "        if counter >= 2016:\n",
    "            return\n",
    "        s.enter(300, 1, run)"
   ]
  },
  {
   "cell_type": "code",
   "execution_count": null,
   "metadata": {},
   "outputs": [],
   "source": [
    "file = ''\n",
    "\n",
    "kwargs = {'newline': ''}\n",
    "mode = 'w'\n",
    "\n",
    "with open(file, mode, **kwargs) as fp:\n",
    "    writer = csv.writer(fp, delimiter=',')\n",
    "    writer.writerow([anime_id, watched_percentage, score])\n",
    "    \n",
    "counter = 0\n",
    "s = sched.scheduler(time.time, time.sleep)\n",
    "s.enter(60, 1, run)\n",
    "s.run()"
   ]
  }
 ],
 "metadata": {
  "kernelspec": {
   "display_name": "Python 3",
   "language": "python",
   "name": "python3"
  },
  "language_info": {
   "codemirror_mode": {
    "name": "ipython",
    "version": 3
   },
   "file_extension": ".py",
   "mimetype": "text/x-python",
   "name": "python",
   "nbconvert_exporter": "python",
   "pygments_lexer": "ipython3",
   "version": "3.7.0"
  }
 },
 "nbformat": 4,
 "nbformat_minor": 2
}
