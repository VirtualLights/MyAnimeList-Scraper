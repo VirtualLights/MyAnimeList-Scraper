{
 "cells": [
  {
   "cell_type": "code",
   "execution_count": 46,
   "metadata": {},
   "outputs": [],
   "source": [
    "import requests\n",
    "import re\n",
    "from bs4 import BeautifulSoup\n",
    "import time\n",
    "import json\n",
    "\n",
    "# Scrapes the MAL recent users page in order to capture usernames\n",
    "url = \"https://myanimelist.net/users.php\"\n",
    "\n",
    "page = requests.get(url)\n",
    "soup = BeautifulSoup(page.text)\n",
    "users = soup.findAll(\"a\", {'href': re.compile(r'\\/profile\\/.*')})"
   ]
  },
  {
   "cell_type": "code",
   "execution_count": 57,
   "metadata": {},
   "outputs": [],
   "source": [
    "# Function to clean the HTML table text into a list containing tuples of the format\n",
    "# (anime_id, watched_percentage, score)\n",
    "# watched_percentage is calculated as num_watched_episodes / anime_num_episodes\n",
    "# Note: An unscored anime is calculated as a 0 by MAL\n",
    "\n",
    "def clean(anime_list):\n",
    "    cleaned_list = []\n",
    "    for anime in anime_list:\n",
    "        anime_id = anime.get('anime_id', None)\n",
    "        \n",
    "        num_watched = anime.get('num_watched_episodes', 0)\n",
    "        num_episodes = anime.get('anime_num_episodes', 1)\n",
    "        watched_percentage = num_watched / num_episodes\n",
    "        \n",
    "        score = anime.get('score', 0)\n",
    "        \n",
    "        cleaned_list.append((anime_id, watched_percentage, score))\n",
    "        \n",
    "    return cleaned_list       "
   ]
  },
  {
   "cell_type": "code",
   "execution_count": 58,
   "metadata": {},
   "outputs": [
    {
     "name": "stdout",
     "output_type": "stream",
     "text": [
      "37520\n",
      "0\n",
      "24\n",
      "0\n",
      "==================\n",
      "{'status': 1, 'score': 0, 'tags': '', 'is_rewatching': 0, 'num_watched_episodes': 0, 'anime_title': 'Dororo', 'anime_num_episodes': 24, 'anime_airing_status': 1, 'anime_id': 37520, 'anime_studios': None, 'anime_licensors': None, 'anime_season': None, 'has_episode_video': False, 'has_promotion_video': True, 'has_video': True, 'video_url': '/anime/37520/Dororo/video', 'anime_url': '/anime/37520/Dororo', 'anime_image_path': 'https://cdn.myanimelist.net/r/96x136/images/anime/1879/100467.jpg?s=f414d5117d376a76f3fab81f24de9f40', 'is_added_to_list': False, 'anime_media_type_string': 'TV', 'anime_mpaa_rating_string': 'R', 'start_date_string': None, 'finish_date_string': None, 'anime_start_date_string': '01-07-19', 'anime_end_date_string': None, 'days_string': None, 'storage_string': '', 'priority_string': 'Low'}\n"
     ]
    }
   ],
   "source": [
    "# Scrapes each user's anime list\n",
    "for user in users:\n",
    "    # Skips all of the NavigableStrings\n",
    "    if len(user.text) > 0:\n",
    "        user_url = \"https://myanimelist.net/animelist/\" + user.text + \"/load.json?status=7&offset=0\"\n",
    "        user_page = requests.get(user_url)\n",
    "        user_json = json.loads(user_page.text)\n",
    "        \n",
    "        anime_list = clean(user_json)\n",
    "        \n",
    "        #TODO: store cleaned anime lists somehow (using database?)"
   ]
  },
  {
   "cell_type": "code",
   "execution_count": null,
   "metadata": {},
   "outputs": [],
   "source": []
  }
 ],
 "metadata": {
  "kernelspec": {
   "display_name": "Python 3",
   "language": "python",
   "name": "python3"
  },
  "language_info": {
   "codemirror_mode": {
    "name": "ipython",
    "version": 3
   },
   "file_extension": ".py",
   "mimetype": "text/x-python",
   "name": "python",
   "nbconvert_exporter": "python",
   "pygments_lexer": "ipython3",
   "version": "3.7.0"
  }
 },
 "nbformat": 4,
 "nbformat_minor": 2
}
